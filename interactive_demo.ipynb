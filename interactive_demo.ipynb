{
 "cells": [
  {
   "cell_type": "markdown",
   "id": "f6290fa2",
   "metadata": {},
   "source": [
    "# Alternative: Run via Databricks CLI\n",
    "\n",
    "If the Databricks kernel isn't working, you can run cells remotely using the CLI:\n",
    "\n",
    "1. **Upload this notebook to workspace**: `databricks workspace import interactive_demo.ipynb /Workspace/Users/jq22184@hotmail.com/interactive_demo.ipynb --language PYTHON --format JUPYTER`\n",
    "2. **Run in workspace**: Open it in the Databricks UI\n",
    "3. **Or use the .py version** below for individual cell execution"
   ]
  },
  {
   "cell_type": "markdown",
   "id": "2d69915c",
   "metadata": {},
   "source": [
    "# Databricks Interactive Notebook Demo\n",
    "\n",
    "This notebook demonstrates how to run PySpark code interactively against your Databricks cluster from VS Code.\n",
    "\n",
    "## Prerequisites\n",
    "- Databricks extension installed in VS Code\n",
    "- Authenticated with your workspace (using codespaces profile)\n",
    "- Running cluster available"
   ]
  },
  {
   "cell_type": "code",
   "execution_count": 1,
   "id": "e312ed62",
   "metadata": {},
   "outputs": [
    {
     "name": "stdout",
     "output_type": "stream",
     "text": [
      "Testing Spark connection...\n"
     ]
    },
    {
     "ename": "NameError",
     "evalue": "name 'spark' is not defined",
     "output_type": "error",
     "traceback": [
      "\u001b[31m---------------------------------------------------------------------------\u001b[39m",
      "\u001b[31mNameError\u001b[39m                                 Traceback (most recent call last)",
      "\u001b[36mCell\u001b[39m\u001b[36m \u001b[39m\u001b[32mIn[1]\u001b[39m\u001b[32m, line 3\u001b[39m\n\u001b[32m      1\u001b[39m \u001b[38;5;66;03m# Test connection to Spark\u001b[39;00m\n\u001b[32m      2\u001b[39m \u001b[38;5;28mprint\u001b[39m(\u001b[33m\"\u001b[39m\u001b[33mTesting Spark connection...\u001b[39m\u001b[33m\"\u001b[39m)\n\u001b[32m----> \u001b[39m\u001b[32m3\u001b[39m \u001b[38;5;28mprint\u001b[39m(\u001b[33mf\u001b[39m\u001b[33m\"\u001b[39m\u001b[33mSpark version: \u001b[39m\u001b[38;5;132;01m{\u001b[39;00m\u001b[43mspark\u001b[49m.version\u001b[38;5;132;01m}\u001b[39;00m\u001b[33m\"\u001b[39m)\n\u001b[32m      4\u001b[39m \u001b[38;5;28mprint\u001b[39m(\u001b[33mf\u001b[39m\u001b[33m\"\u001b[39m\u001b[33mSpark context: \u001b[39m\u001b[38;5;132;01m{\u001b[39;00mspark.sparkContext\u001b[38;5;132;01m}\u001b[39;00m\u001b[33m\"\u001b[39m)\n",
      "\u001b[31mNameError\u001b[39m: name 'spark' is not defined"
     ]
    }
   ],
   "source": [
    "# Test connection to Spark\n",
    "print(\"Testing Spark connection...\")\n",
    "print(f\"Spark version: {spark.version}\")\n",
    "print(f\"Spark context: {spark.sparkContext}\")"
   ]
  },
  {
   "cell_type": "markdown",
   "id": "56f31c4c",
   "metadata": {},
   "source": [
    "## Create Sample Data\n",
    "\n",
    "Let's create a simple DataFrame with some sample data."
   ]
  },
  {
   "cell_type": "code",
   "execution_count": null,
   "id": "333a081e",
   "metadata": {},
   "outputs": [],
   "source": [
    "# Create sample data\n",
    "from pyspark.sql import functions as F\n",
    "from pyspark.sql.types import StructType, StructField, StringType, IntegerType\n",
    "\n",
    "# Create a sample DataFrame\n",
    "data = [\n",
    "    (\"Alice\", 25, \"Engineer\"),\n",
    "    (\"Bob\", 30, \"Manager\"), \n",
    "    (\"Charlie\", 35, \"Analyst\"),\n",
    "    (\"Diana\", 28, \"Designer\")\n",
    "]\n",
    "\n",
    "schema = StructType([\n",
    "    StructField(\"name\", StringType(), True),\n",
    "    StructField(\"age\", IntegerType(), True),\n",
    "    StructField(\"role\", StringType(), True)\n",
    "])\n",
    "\n",
    "df = spark.createDataFrame(data, schema)\n",
    "print(\"DataFrame created successfully!\")\n",
    "df.show()"
   ]
  },
  {
   "cell_type": "markdown",
   "id": "b8f4798e",
   "metadata": {},
   "source": [
    "## Data Transformations\n",
    "\n",
    "Now let's perform some basic transformations and aggregations."
   ]
  },
  {
   "cell_type": "code",
   "execution_count": null,
   "id": "aa31ef4c",
   "metadata": {},
   "outputs": [],
   "source": [
    "# Add a new column and filter data\n",
    "df_transformed = df.withColumn(\"age_group\", \n",
    "    F.when(F.col(\"age\") < 30, \"Young\")\n",
    "     .otherwise(\"Experienced\")\n",
    ")\n",
    "\n",
    "print(\"DataFrame with age groups:\")\n",
    "df_transformed.show()\n",
    "\n",
    "# Group by age group and count\n",
    "print(\"Count by age group:\")\n",
    "df_transformed.groupBy(\"age_group\").count().show()"
   ]
  },
  {
   "cell_type": "markdown",
   "id": "574b11a3",
   "metadata": {},
   "source": [
    "## File Operations\n",
    "\n",
    "Let's try reading from and writing to DBFS (Databricks File System)."
   ]
  },
  {
   "cell_type": "code",
   "execution_count": null,
   "id": "11b544c7",
   "metadata": {},
   "outputs": [],
   "source": [
    "# Write DataFrame to DBFS\n",
    "output_path = \"/tmp/sample_data.parquet\"\n",
    "\n",
    "df_transformed.write.mode(\"overwrite\").parquet(output_path)\n",
    "print(f\"Data written to: {output_path}\")\n",
    "\n",
    "# Read it back\n",
    "df_read = spark.read.parquet(output_path)\n",
    "print(\"Data read back from DBFS:\")\n",
    "df_read.show()"
   ]
  },
  {
   "cell_type": "markdown",
   "id": "e626d0ca",
   "metadata": {},
   "source": [
    "## Delta Lake Example\n",
    "\n",
    "If your workspace supports Delta Lake, try this example:"
   ]
  },
  {
   "cell_type": "code",
   "execution_count": null,
   "id": "0cd82d62",
   "metadata": {},
   "outputs": [],
   "source": [
    "# Delta Lake example (if available)\n",
    "try:\n",
    "    delta_path = \"/tmp/sample_delta_table\"\n",
    "    \n",
    "    # Write as Delta table\n",
    "    df_transformed.write.format(\"delta\").mode(\"overwrite\").save(delta_path)\n",
    "    print(f\"Delta table written to: {delta_path}\")\n",
    "    \n",
    "    # Read Delta table\n",
    "    df_delta = spark.read.format(\"delta\").load(delta_path)\n",
    "    print(\"Delta table contents:\")\n",
    "    df_delta.show()\n",
    "    \n",
    "except Exception as e:\n",
    "    print(f\"Delta Lake not available or error occurred: {e}\")"
   ]
  },
  {
   "cell_type": "markdown",
   "id": "9cd5fc59",
   "metadata": {},
   "source": [
    "## Display Function\n",
    "\n",
    "Use the `display()` function for rich visualizations (when available):"
   ]
  },
  {
   "cell_type": "code",
   "execution_count": null,
   "id": "b80aa5e7",
   "metadata": {},
   "outputs": [],
   "source": [
    "# Try using display function for better visualization\n",
    "try:\n",
    "    display(df_transformed)\n",
    "except NameError:\n",
    "    print(\"display() function not available in this context\")\n",
    "    print(\"Showing DataFrame with .show() instead:\")\n",
    "    df_transformed.show()"
   ]
  }
 ],
 "metadata": {
  "kernelspec": {
   "display_name": "Python 3",
   "language": "python",
   "name": "python3"
  },
  "language_info": {
   "codemirror_mode": {
    "name": "ipython",
    "version": 3
   },
   "file_extension": ".py",
   "mimetype": "text/x-python",
   "name": "python",
   "nbconvert_exporter": "python",
   "pygments_lexer": "ipython3",
   "version": "3.12.1"
  }
 },
 "nbformat": 4,
 "nbformat_minor": 5
}
